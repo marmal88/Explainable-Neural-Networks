{
 "cells": [
  {
   "attachments": {},
   "cell_type": "markdown",
   "metadata": {},
   "source": [
    "## Checking available files in dataset\n",
    "\n",
    "Adding metadata from image file"
   ]
  },
  {
   "cell_type": "code",
   "execution_count": 26,
   "metadata": {},
   "outputs": [],
   "source": [
    "import os\n",
    "from PIL import Image\n",
    "import pandas as pd\n",
    "from typing import Tuple"
   ]
  },
  {
   "cell_type": "code",
   "execution_count": 27,
   "metadata": {},
   "outputs": [],
   "source": [
    "def check_files(datapath:str, savepath:str=None)-> Tuple[pd.DataFrame,list]:\n",
    "    \"\"\" Runs through the data folder and obtain metadata from the image\n",
    "    Args:\n",
    "        datapath (str): path to data folder\n",
    "        savepath (str, optional): path to csv dataframe to save. Defaults to None.\n",
    "    Returns:\n",
    "        pd.DataFrame: dataframe of image \n",
    "        list: list of erroneous files\n",
    "    \"\"\"    \n",
    "    path, mode, size, form, error_ls = [], [], [], [], []\n",
    "    for root, _, files in os.walk(datapath):\n",
    "        for file in files:\n",
    "            filepath = os.path.join(root, file)\n",
    "            if check_file_extension(filepath):\n",
    "                img = Image.open(filepath)\n",
    "                try:\n",
    "                    path.append(filepath)\n",
    "                    mode.append(img.mode)\n",
    "                    size.append(img.size)\n",
    "                    form.append(img.format)\n",
    "                except:\n",
    "                    error_ls.append(filepath)\n",
    "\n",
    "    df = pd.DataFrame.from_dict({'file_path': path, 'img_size': size, 'img_mode':mode, 'img_format':form})\n",
    "\n",
    "    if savepath: \n",
    "        df.to_csv(savepath, index=False)\n",
    "\n",
    "    return df, error_ls\n",
    "\n",
    "def check_file_extension(file:str)->bool:\n",
    "    \"\"\" Check for file extension\n",
    "    Returns:\n",
    "        Bool: True if jpeg or jpg\n",
    "    \"\"\"\n",
    "    fileext = os.path.splitext(file)[1]\n",
    "    if fileext == \".jpeg\" or fileext ==\".jpg\":\n",
    "        return True\n",
    "    return False\n"
   ]
  },
  {
   "cell_type": "code",
   "execution_count": 28,
   "metadata": {},
   "outputs": [
    {
     "name": "stdout",
     "output_type": "stream",
     "text": [
      "Dataset consist of length 5856 with 4 columns.\n",
      "Number of erroneous files is 0.\n"
     ]
    }
   ],
   "source": [
    "datapath = \"../data\" \n",
    "savepath = \"dataset.csv\"\n",
    "\n",
    "df, error = check_files(datapath, savepath)\n",
    "print(f\"Dataset consist of length {df.shape[0]} with {df.shape[1]} columns.\")\n",
    "print(f\"Number of erroneous files is {len(error)}.\")"
   ]
  },
  {
   "cell_type": "code",
   "execution_count": 29,
   "metadata": {},
   "outputs": [
    {
     "data": {
      "text/html": [
       "<div>\n",
       "<style scoped>\n",
       "    .dataframe tbody tr th:only-of-type {\n",
       "        vertical-align: middle;\n",
       "    }\n",
       "\n",
       "    .dataframe tbody tr th {\n",
       "        vertical-align: top;\n",
       "    }\n",
       "\n",
       "    .dataframe thead th {\n",
       "        text-align: right;\n",
       "    }\n",
       "</style>\n",
       "<table border=\"1\" class=\"dataframe\">\n",
       "  <thead>\n",
       "    <tr style=\"text-align: right;\">\n",
       "      <th></th>\n",
       "      <th>file_path</th>\n",
       "      <th>img_size</th>\n",
       "      <th>img_mode</th>\n",
       "      <th>img_format</th>\n",
       "    </tr>\n",
       "  </thead>\n",
       "  <tbody>\n",
       "    <tr>\n",
       "      <th>0</th>\n",
       "      <td>../data/val/NORMAL/NORMAL2-IM-1431-0001.jpeg</td>\n",
       "      <td>(1736, 1416)</td>\n",
       "      <td>L</td>\n",
       "      <td>JPEG</td>\n",
       "    </tr>\n",
       "    <tr>\n",
       "      <th>1</th>\n",
       "      <td>../data/val/NORMAL/NORMAL2-IM-1440-0001.jpeg</td>\n",
       "      <td>(1632, 1225)</td>\n",
       "      <td>L</td>\n",
       "      <td>JPEG</td>\n",
       "    </tr>\n",
       "    <tr>\n",
       "      <th>2</th>\n",
       "      <td>../data/val/NORMAL/NORMAL2-IM-1442-0001.jpeg</td>\n",
       "      <td>(1564, 1302)</td>\n",
       "      <td>L</td>\n",
       "      <td>JPEG</td>\n",
       "    </tr>\n",
       "    <tr>\n",
       "      <th>3</th>\n",
       "      <td>../data/val/NORMAL/NORMAL2-IM-1436-0001.jpeg</td>\n",
       "      <td>(1288, 928)</td>\n",
       "      <td>L</td>\n",
       "      <td>JPEG</td>\n",
       "    </tr>\n",
       "    <tr>\n",
       "      <th>4</th>\n",
       "      <td>../data/val/NORMAL/NORMAL2-IM-1430-0001.jpeg</td>\n",
       "      <td>(1272, 1040)</td>\n",
       "      <td>L</td>\n",
       "      <td>JPEG</td>\n",
       "    </tr>\n",
       "  </tbody>\n",
       "</table>\n",
       "</div>"
      ],
      "text/plain": [
       "                                      file_path      img_size img_mode  \\\n",
       "0  ../data/val/NORMAL/NORMAL2-IM-1431-0001.jpeg  (1736, 1416)        L   \n",
       "1  ../data/val/NORMAL/NORMAL2-IM-1440-0001.jpeg  (1632, 1225)        L   \n",
       "2  ../data/val/NORMAL/NORMAL2-IM-1442-0001.jpeg  (1564, 1302)        L   \n",
       "3  ../data/val/NORMAL/NORMAL2-IM-1436-0001.jpeg   (1288, 928)        L   \n",
       "4  ../data/val/NORMAL/NORMAL2-IM-1430-0001.jpeg  (1272, 1040)        L   \n",
       "\n",
       "  img_format  \n",
       "0       JPEG  \n",
       "1       JPEG  \n",
       "2       JPEG  \n",
       "3       JPEG  \n",
       "4       JPEG  "
      ]
     },
     "execution_count": 29,
     "metadata": {},
     "output_type": "execute_result"
    }
   ],
   "source": [
    "df.head()"
   ]
  },
  {
   "attachments": {},
   "cell_type": "markdown",
   "metadata": {},
   "source": [
    "## Parsing Folder data"
   ]
  },
  {
   "cell_type": "code",
   "execution_count": 30,
   "metadata": {},
   "outputs": [],
   "source": [
    "import pandas as pd\n",
    "\n",
    "savepath = \"dataset.csv\"\n",
    "df = pd.read_csv(savepath)"
   ]
  },
  {
   "cell_type": "code",
   "execution_count": 31,
   "metadata": {},
   "outputs": [],
   "source": [
    "def get_tts(path:str)->str:\n",
    "    tts = path.split('/')[2]\n",
    "    return tts\n",
    "\n",
    "def get_class(path:str)->str:\n",
    "    folder = path.split('/')[3]\n",
    "    return folder\n",
    "\n",
    "# Obtain Class and If dataset is from Train, Test or Validation folder\n",
    "df['tts'] = df.file_path.apply(lambda x: get_tts(x))\n",
    "df['class'] = df.file_path.apply(lambda x: get_class(x))\n",
    "\n",
    "def get_type(path:str)->str:\n",
    "    type = path.split('/')[-1].split('_')[1]\n",
    "    return type\n",
    "\n",
    "# Obtain Type of Pneumonia, \"Bacterial\" or \"Viral\" if class is Pneumonia\n",
    "subset = df.loc[df[\"class\"]==\"PNEUMONIA\", [\"file_path\", \"class\"]].copy()\n",
    "subset[\"type\"] = subset.file_path.apply(lambda x: get_type(x))\n",
    "df = df.merge(subset, how=\"outer\", left_on=\"file_path\", right_on=\"file_path\")\n",
    "df[\"type\"] = df[\"type\"].fillna(value=\"normal\")\n",
    "df.drop(columns=\"class_y\", inplace=True)\n",
    "df.rename(columns={\"class_x\": \"class\"}, inplace=True)\n",
    "\n",
    "savepath = \"dataset.csv\"\n",
    "df.to_csv(savepath, index=False)\n"
   ]
  },
  {
   "cell_type": "code",
   "execution_count": 32,
   "metadata": {},
   "outputs": [
    {
     "data": {
      "text/html": [
       "<div>\n",
       "<style scoped>\n",
       "    .dataframe tbody tr th:only-of-type {\n",
       "        vertical-align: middle;\n",
       "    }\n",
       "\n",
       "    .dataframe tbody tr th {\n",
       "        vertical-align: top;\n",
       "    }\n",
       "\n",
       "    .dataframe thead th {\n",
       "        text-align: right;\n",
       "    }\n",
       "</style>\n",
       "<table border=\"1\" class=\"dataframe\">\n",
       "  <thead>\n",
       "    <tr style=\"text-align: right;\">\n",
       "      <th></th>\n",
       "      <th>file_path</th>\n",
       "      <th>img_size</th>\n",
       "      <th>img_mode</th>\n",
       "      <th>img_format</th>\n",
       "      <th>tts</th>\n",
       "      <th>class</th>\n",
       "      <th>type</th>\n",
       "    </tr>\n",
       "  </thead>\n",
       "  <tbody>\n",
       "    <tr>\n",
       "      <th>0</th>\n",
       "      <td>../data/val/NORMAL/NORMAL2-IM-1431-0001.jpeg</td>\n",
       "      <td>(1736, 1416)</td>\n",
       "      <td>L</td>\n",
       "      <td>JPEG</td>\n",
       "      <td>val</td>\n",
       "      <td>NORMAL</td>\n",
       "      <td>normal</td>\n",
       "    </tr>\n",
       "    <tr>\n",
       "      <th>1</th>\n",
       "      <td>../data/val/NORMAL/NORMAL2-IM-1440-0001.jpeg</td>\n",
       "      <td>(1632, 1225)</td>\n",
       "      <td>L</td>\n",
       "      <td>JPEG</td>\n",
       "      <td>val</td>\n",
       "      <td>NORMAL</td>\n",
       "      <td>normal</td>\n",
       "    </tr>\n",
       "    <tr>\n",
       "      <th>2</th>\n",
       "      <td>../data/val/NORMAL/NORMAL2-IM-1442-0001.jpeg</td>\n",
       "      <td>(1564, 1302)</td>\n",
       "      <td>L</td>\n",
       "      <td>JPEG</td>\n",
       "      <td>val</td>\n",
       "      <td>NORMAL</td>\n",
       "      <td>normal</td>\n",
       "    </tr>\n",
       "    <tr>\n",
       "      <th>3</th>\n",
       "      <td>../data/val/NORMAL/NORMAL2-IM-1436-0001.jpeg</td>\n",
       "      <td>(1288, 928)</td>\n",
       "      <td>L</td>\n",
       "      <td>JPEG</td>\n",
       "      <td>val</td>\n",
       "      <td>NORMAL</td>\n",
       "      <td>normal</td>\n",
       "    </tr>\n",
       "    <tr>\n",
       "      <th>4</th>\n",
       "      <td>../data/val/NORMAL/NORMAL2-IM-1430-0001.jpeg</td>\n",
       "      <td>(1272, 1040)</td>\n",
       "      <td>L</td>\n",
       "      <td>JPEG</td>\n",
       "      <td>val</td>\n",
       "      <td>NORMAL</td>\n",
       "      <td>normal</td>\n",
       "    </tr>\n",
       "  </tbody>\n",
       "</table>\n",
       "</div>"
      ],
      "text/plain": [
       "                                      file_path      img_size img_mode  \\\n",
       "0  ../data/val/NORMAL/NORMAL2-IM-1431-0001.jpeg  (1736, 1416)        L   \n",
       "1  ../data/val/NORMAL/NORMAL2-IM-1440-0001.jpeg  (1632, 1225)        L   \n",
       "2  ../data/val/NORMAL/NORMAL2-IM-1442-0001.jpeg  (1564, 1302)        L   \n",
       "3  ../data/val/NORMAL/NORMAL2-IM-1436-0001.jpeg   (1288, 928)        L   \n",
       "4  ../data/val/NORMAL/NORMAL2-IM-1430-0001.jpeg  (1272, 1040)        L   \n",
       "\n",
       "  img_format  tts   class    type  \n",
       "0       JPEG  val  NORMAL  normal  \n",
       "1       JPEG  val  NORMAL  normal  \n",
       "2       JPEG  val  NORMAL  normal  \n",
       "3       JPEG  val  NORMAL  normal  \n",
       "4       JPEG  val  NORMAL  normal  "
      ]
     },
     "execution_count": 32,
     "metadata": {},
     "output_type": "execute_result"
    }
   ],
   "source": [
    "df.head()"
   ]
  },
  {
   "attachments": {},
   "cell_type": "markdown",
   "metadata": {},
   "source": [
    "## EDA"
   ]
  },
  {
   "cell_type": "code",
   "execution_count": 14,
   "metadata": {},
   "outputs": [],
   "source": [
    "import pandas as pd\n",
    "import seaborn as sns\n",
    "import numpy as np"
   ]
  },
  {
   "cell_type": "code",
   "execution_count": 34,
   "metadata": {},
   "outputs": [
    {
     "data": {
      "text/html": [
       "<div>\n",
       "<style scoped>\n",
       "    .dataframe tbody tr th:only-of-type {\n",
       "        vertical-align: middle;\n",
       "    }\n",
       "\n",
       "    .dataframe tbody tr th {\n",
       "        vertical-align: top;\n",
       "    }\n",
       "\n",
       "    .dataframe thead th {\n",
       "        text-align: right;\n",
       "    }\n",
       "</style>\n",
       "<table border=\"1\" class=\"dataframe\">\n",
       "  <thead>\n",
       "    <tr style=\"text-align: right;\">\n",
       "      <th></th>\n",
       "      <th>file_path</th>\n",
       "      <th>img_size</th>\n",
       "      <th>img_mode</th>\n",
       "      <th>img_format</th>\n",
       "      <th>tts</th>\n",
       "      <th>class</th>\n",
       "      <th>type</th>\n",
       "    </tr>\n",
       "  </thead>\n",
       "  <tbody>\n",
       "    <tr>\n",
       "      <th>8</th>\n",
       "      <td>../data/val/PNEUMONIA/person1946_bacteria_4875...</td>\n",
       "      <td>(1072, 712)</td>\n",
       "      <td>L</td>\n",
       "      <td>JPEG</td>\n",
       "      <td>val</td>\n",
       "      <td>PNEUMONIA</td>\n",
       "      <td>bacteria</td>\n",
       "    </tr>\n",
       "    <tr>\n",
       "      <th>9</th>\n",
       "      <td>../data/val/PNEUMONIA/person1954_bacteria_4886...</td>\n",
       "      <td>(1664, 1128)</td>\n",
       "      <td>L</td>\n",
       "      <td>JPEG</td>\n",
       "      <td>val</td>\n",
       "      <td>PNEUMONIA</td>\n",
       "      <td>bacteria</td>\n",
       "    </tr>\n",
       "    <tr>\n",
       "      <th>10</th>\n",
       "      <td>../data/val/PNEUMONIA/person1951_bacteria_4882...</td>\n",
       "      <td>(1016, 656)</td>\n",
       "      <td>L</td>\n",
       "      <td>JPEG</td>\n",
       "      <td>val</td>\n",
       "      <td>PNEUMONIA</td>\n",
       "      <td>bacteria</td>\n",
       "    </tr>\n",
       "    <tr>\n",
       "      <th>11</th>\n",
       "      <td>../data/val/PNEUMONIA/person1952_bacteria_4883...</td>\n",
       "      <td>(1192, 952)</td>\n",
       "      <td>L</td>\n",
       "      <td>JPEG</td>\n",
       "      <td>val</td>\n",
       "      <td>PNEUMONIA</td>\n",
       "      <td>bacteria</td>\n",
       "    </tr>\n",
       "    <tr>\n",
       "      <th>12</th>\n",
       "      <td>../data/val/PNEUMONIA/person1947_bacteria_4876...</td>\n",
       "      <td>(1152, 664)</td>\n",
       "      <td>L</td>\n",
       "      <td>JPEG</td>\n",
       "      <td>val</td>\n",
       "      <td>PNEUMONIA</td>\n",
       "      <td>bacteria</td>\n",
       "    </tr>\n",
       "    <tr>\n",
       "      <th>...</th>\n",
       "      <td>...</td>\n",
       "      <td>...</td>\n",
       "      <td>...</td>\n",
       "      <td>...</td>\n",
       "      <td>...</td>\n",
       "      <td>...</td>\n",
       "      <td>...</td>\n",
       "    </tr>\n",
       "    <tr>\n",
       "      <th>5851</th>\n",
       "      <td>../data/train/PNEUMONIA/person262_bacteria_122...</td>\n",
       "      <td>(1218, 840)</td>\n",
       "      <td>L</td>\n",
       "      <td>JPEG</td>\n",
       "      <td>train</td>\n",
       "      <td>PNEUMONIA</td>\n",
       "      <td>bacteria</td>\n",
       "    </tr>\n",
       "    <tr>\n",
       "      <th>5852</th>\n",
       "      <td>../data/train/PNEUMONIA/person576_bacteria_237...</td>\n",
       "      <td>(1256, 1032)</td>\n",
       "      <td>L</td>\n",
       "      <td>JPEG</td>\n",
       "      <td>train</td>\n",
       "      <td>PNEUMONIA</td>\n",
       "      <td>bacteria</td>\n",
       "    </tr>\n",
       "    <tr>\n",
       "      <th>5853</th>\n",
       "      <td>../data/train/PNEUMONIA/person83_virus_156.jpeg</td>\n",
       "      <td>(1504, 720)</td>\n",
       "      <td>L</td>\n",
       "      <td>JPEG</td>\n",
       "      <td>train</td>\n",
       "      <td>PNEUMONIA</td>\n",
       "      <td>virus</td>\n",
       "    </tr>\n",
       "    <tr>\n",
       "      <th>5854</th>\n",
       "      <td>../data/train/PNEUMONIA/person754_virus_1379.jpeg</td>\n",
       "      <td>(904, 848)</td>\n",
       "      <td>L</td>\n",
       "      <td>JPEG</td>\n",
       "      <td>train</td>\n",
       "      <td>PNEUMONIA</td>\n",
       "      <td>virus</td>\n",
       "    </tr>\n",
       "    <tr>\n",
       "      <th>5855</th>\n",
       "      <td>../data/train/PNEUMONIA/person31_bacteria_162....</td>\n",
       "      <td>(944, 480)</td>\n",
       "      <td>L</td>\n",
       "      <td>JPEG</td>\n",
       "      <td>train</td>\n",
       "      <td>PNEUMONIA</td>\n",
       "      <td>bacteria</td>\n",
       "    </tr>\n",
       "  </tbody>\n",
       "</table>\n",
       "<p>4273 rows × 7 columns</p>\n",
       "</div>"
      ],
      "text/plain": [
       "                                              file_path      img_size  \\\n",
       "8     ../data/val/PNEUMONIA/person1946_bacteria_4875...   (1072, 712)   \n",
       "9     ../data/val/PNEUMONIA/person1954_bacteria_4886...  (1664, 1128)   \n",
       "10    ../data/val/PNEUMONIA/person1951_bacteria_4882...   (1016, 656)   \n",
       "11    ../data/val/PNEUMONIA/person1952_bacteria_4883...   (1192, 952)   \n",
       "12    ../data/val/PNEUMONIA/person1947_bacteria_4876...   (1152, 664)   \n",
       "...                                                 ...           ...   \n",
       "5851  ../data/train/PNEUMONIA/person262_bacteria_122...   (1218, 840)   \n",
       "5852  ../data/train/PNEUMONIA/person576_bacteria_237...  (1256, 1032)   \n",
       "5853    ../data/train/PNEUMONIA/person83_virus_156.jpeg   (1504, 720)   \n",
       "5854  ../data/train/PNEUMONIA/person754_virus_1379.jpeg    (904, 848)   \n",
       "5855  ../data/train/PNEUMONIA/person31_bacteria_162....    (944, 480)   \n",
       "\n",
       "     img_mode img_format    tts      class      type  \n",
       "8           L       JPEG    val  PNEUMONIA  bacteria  \n",
       "9           L       JPEG    val  PNEUMONIA  bacteria  \n",
       "10          L       JPEG    val  PNEUMONIA  bacteria  \n",
       "11          L       JPEG    val  PNEUMONIA  bacteria  \n",
       "12          L       JPEG    val  PNEUMONIA  bacteria  \n",
       "...       ...        ...    ...        ...       ...  \n",
       "5851        L       JPEG  train  PNEUMONIA  bacteria  \n",
       "5852        L       JPEG  train  PNEUMONIA  bacteria  \n",
       "5853        L       JPEG  train  PNEUMONIA     virus  \n",
       "5854        L       JPEG  train  PNEUMONIA     virus  \n",
       "5855        L       JPEG  train  PNEUMONIA  bacteria  \n",
       "\n",
       "[4273 rows x 7 columns]"
      ]
     },
     "execution_count": 34,
     "metadata": {},
     "output_type": "execute_result"
    }
   ],
   "source": [
    "class_df = df.loc[(df[\"type\"]==\"bacteria\")|(df[\"type\"]==\"virus\")]\n",
    "class_df"
   ]
  },
  {
   "cell_type": "code",
   "execution_count": 35,
   "metadata": {},
   "outputs": [
    {
     "name": "stdout",
     "output_type": "stream",
     "text": [
      "0    65.059677\n",
      "1    34.940323\n",
      "Name: pct_bacteria_vs_virus, dtype: float64\n"
     ]
    },
    {
     "data": {
      "text/plain": [
       "Text(0.5, 1.0, 'Cases of Bacteria vs Viruses')"
      ]
     },
     "execution_count": 35,
     "metadata": {},
     "output_type": "execute_result"
    },
    {
     "data": {
      "image/png": "[encoded data removed]",
      "text/plain": [
       "<Figure size 640x480 with 1 Axes>"
      ]
     },
     "metadata": {},
     "output_type": "display_data"
    }
   ],
   "source": [
    "\n",
    "class_df = class_df.groupby('type').count().reset_index()\n",
    "class_df[\"pct_bacteria_vs_virus\"] = (class_df[\"file_path\"]/class_df[\"file_path\"].sum())*100\n",
    "print(class_df[\"pct_bacteria_vs_virus\"])\n",
    "sns.barplot(class_df, x=\"type\", y=\"file_path\").set_title(\"Cases of Bacteria vs Viruses\")"
   ]
  },
  {
   "cell_type": "code",
   "execution_count": 36,
   "metadata": {},
   "outputs": [
    {
     "data": {
      "text/plain": [
       "Text(0.5, 1.0, 'Image modes (RGB vs Greyscale)')"
      ]
     },
     "execution_count": 36,
     "metadata": {},
     "output_type": "execute_result"
    },
    {
     "data": {
      "image/png": "[encoded data removed]",
      "text/plain": [
       "<Figure size 640x480 with 1 Axes>"
      ]
     },
     "metadata": {},
     "output_type": "display_data"
    }
   ],
   "source": [
    "mode_df = df.groupby('img_mode').count().reset_index()\n",
    "sns.barplot(mode_df, x=\"img_mode\", y=\"file_path\").set_title(\"Image modes (RGB vs Greyscale)\")\n"
   ]
  },
  {
   "cell_type": "code",
   "execution_count": 37,
   "metadata": {},
   "outputs": [
    {
     "data": {
      "text/plain": [
       "Text(0.5, 1.0, 'Images by folder (train test or validation)')"
      ]
     },
     "execution_count": 37,
     "metadata": {},
     "output_type": "execute_result"
    },
    {
     "data": {
      "image/png": "[encoded data removed]",
      "text/plain": [
       "<Figure size 640x480 with 1 Axes>"
      ]
     },
     "metadata": {},
     "output_type": "display_data"
    }
   ],
   "source": [
    "tts_df = df.groupby('tts').count()[\"file_path\"].reset_index()\n",
    "order_df = tts_df.sort_values(\"file_path\",ascending=False)\n",
    "sns.barplot(tts_df, x=\"tts\", y=\"file_path\", order=order_df[\"tts\"]).set_title(\"Images by folder (train test or validation)\")"
   ]
  },
  {
   "attachments": {},
   "cell_type": "markdown",
   "metadata": {},
   "source": [
    "## Saving out data"
   ]
  },
  {
   "cell_type": "code",
   "execution_count": null,
   "metadata": {},
   "outputs": [],
   "source": []
  }
 ],
 "metadata": {
  "kernelspec": {
   "display_name": "xnn",
   "language": "python",
   "name": "python3"
  },
  "language_info": {
   "codemirror_mode": {
    "name": "ipython",
    "version": 3
   },
   "file_extension": ".py",
   "mimetype": "text/x-python",
   "name": "python",
   "nbconvert_exporter": "python",
   "pygments_lexer": "ipython3",
   "version": "3.11.0"
  },
  "orig_nbformat": 4
 },
 "nbformat": 4,
 "nbformat_minor": 2
}
