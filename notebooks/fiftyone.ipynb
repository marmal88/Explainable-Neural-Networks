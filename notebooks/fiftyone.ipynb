{
 "cells": [
  {
   "attachments": {},
   "cell_type": "markdown",
   "metadata": {},
   "source": [
    "# Voxel51"
   ]
  },
  {
   "cell_type": "code",
   "execution_count": 1,
   "metadata": {},
   "outputs": [],
   "source": [
    "import pandas as pd\n",
    "import fiftyone as fo\n",
    "import os"
   ]
  },
  {
   "attachments": {},
   "cell_type": "markdown",
   "metadata": {},
   "source": [
    "## Retrieving data from dataset.csv"
   ]
  },
  {
   "cell_type": "code",
   "execution_count": 4,
   "metadata": {},
   "outputs": [
    {
     "data": {
      "text/html": [
       "<div>\n",
       "<style scoped>\n",
       "    .dataframe tbody tr th:only-of-type {\n",
       "        vertical-align: middle;\n",
       "    }\n",
       "\n",
       "    .dataframe tbody tr th {\n",
       "        vertical-align: top;\n",
       "    }\n",
       "\n",
       "    .dataframe thead th {\n",
       "        text-align: right;\n",
       "    }\n",
       "</style>\n",
       "<table border=\"1\" class=\"dataframe\">\n",
       "  <thead>\n",
       "    <tr style=\"text-align: right;\">\n",
       "      <th></th>\n",
       "      <th>file_path</th>\n",
       "      <th>img_size</th>\n",
       "      <th>img_mode</th>\n",
       "      <th>img_format</th>\n",
       "      <th>tts</th>\n",
       "      <th>class</th>\n",
       "      <th>type</th>\n",
       "    </tr>\n",
       "  </thead>\n",
       "  <tbody>\n",
       "    <tr>\n",
       "      <th>0</th>\n",
       "      <td>../data/val/NORMAL/NORMAL2-IM-1431-0001.jpeg</td>\n",
       "      <td>(1736, 1416)</td>\n",
       "      <td>L</td>\n",
       "      <td>JPEG</td>\n",
       "      <td>val</td>\n",
       "      <td>NORMAL</td>\n",
       "      <td>normal</td>\n",
       "    </tr>\n",
       "    <tr>\n",
       "      <th>1</th>\n",
       "      <td>../data/val/NORMAL/NORMAL2-IM-1440-0001.jpeg</td>\n",
       "      <td>(1632, 1225)</td>\n",
       "      <td>L</td>\n",
       "      <td>JPEG</td>\n",
       "      <td>val</td>\n",
       "      <td>NORMAL</td>\n",
       "      <td>normal</td>\n",
       "    </tr>\n",
       "    <tr>\n",
       "      <th>2</th>\n",
       "      <td>../data/val/NORMAL/NORMAL2-IM-1442-0001.jpeg</td>\n",
       "      <td>(1564, 1302)</td>\n",
       "      <td>L</td>\n",
       "      <td>JPEG</td>\n",
       "      <td>val</td>\n",
       "      <td>NORMAL</td>\n",
       "      <td>normal</td>\n",
       "    </tr>\n",
       "    <tr>\n",
       "      <th>3</th>\n",
       "      <td>../data/val/NORMAL/NORMAL2-IM-1436-0001.jpeg</td>\n",
       "      <td>(1288, 928)</td>\n",
       "      <td>L</td>\n",
       "      <td>JPEG</td>\n",
       "      <td>val</td>\n",
       "      <td>NORMAL</td>\n",
       "      <td>normal</td>\n",
       "    </tr>\n",
       "    <tr>\n",
       "      <th>4</th>\n",
       "      <td>../data/val/NORMAL/NORMAL2-IM-1430-0001.jpeg</td>\n",
       "      <td>(1272, 1040)</td>\n",
       "      <td>L</td>\n",
       "      <td>JPEG</td>\n",
       "      <td>val</td>\n",
       "      <td>NORMAL</td>\n",
       "      <td>normal</td>\n",
       "    </tr>\n",
       "  </tbody>\n",
       "</table>\n",
       "</div>"
      ],
      "text/plain": [
       "                                      file_path      img_size img_mode  \\\n",
       "0  ../data/val/NORMAL/NORMAL2-IM-1431-0001.jpeg  (1736, 1416)        L   \n",
       "1  ../data/val/NORMAL/NORMAL2-IM-1440-0001.jpeg  (1632, 1225)        L   \n",
       "2  ../data/val/NORMAL/NORMAL2-IM-1442-0001.jpeg  (1564, 1302)        L   \n",
       "3  ../data/val/NORMAL/NORMAL2-IM-1436-0001.jpeg   (1288, 928)        L   \n",
       "4  ../data/val/NORMAL/NORMAL2-IM-1430-0001.jpeg  (1272, 1040)        L   \n",
       "\n",
       "  img_format  tts   class    type  \n",
       "0       JPEG  val  NORMAL  normal  \n",
       "1       JPEG  val  NORMAL  normal  \n",
       "2       JPEG  val  NORMAL  normal  \n",
       "3       JPEG  val  NORMAL  normal  \n",
       "4       JPEG  val  NORMAL  normal  "
      ]
     },
     "execution_count": 4,
     "metadata": {},
     "output_type": "execute_result"
    }
   ],
   "source": [
    "# location within dockerfile\n",
    "df = pd.read_csv(\"/notebooks/dataset.csv\")\n",
    "df.head()"
   ]
  },
  {
   "attachments": {},
   "cell_type": "markdown",
   "metadata": {},
   "source": [
    "## Running Voxel51"
   ]
  },
  {
   "cell_type": "code",
   "execution_count": null,
   "metadata": {},
   "outputs": [],
   "source": [
    "samples = []\n",
    "for filepath, type in zip(df.file_path, df.type):\n",
    "    sample = fo.Sample(filepath=filepath)\n",
    "    sample.tags.append(type)\n",
    "    samples.append(sample)\n",
    "\n",
    "dataset = fo.Dataset()\n",
    "dataset.add_samples(samples)\n",
    "dataset.shuffle(seed=51)\n",
    "\n",
    "session = fo.launch_app(dataset, address=\"0.0.0.0\", port=5151)\n",
    "session.wait()"
   ]
  },
  {
   "cell_type": "code",
   "execution_count": null,
   "metadata": {},
   "outputs": [],
   "source": []
  }
 ],
 "metadata": {
  "kernelspec": {
   "display_name": "xnn",
   "language": "python",
   "name": "python3"
  },
  "language_info": {
   "codemirror_mode": {
    "name": "ipython",
    "version": 3
   },
   "file_extension": ".py",
   "mimetype": "text/x-python",
   "name": "python",
   "nbconvert_exporter": "python",
   "pygments_lexer": "ipython3",
   "version": "3.11.0"
  },
  "orig_nbformat": 4
 },
 "nbformat": 4,
 "nbformat_minor": 2
}
